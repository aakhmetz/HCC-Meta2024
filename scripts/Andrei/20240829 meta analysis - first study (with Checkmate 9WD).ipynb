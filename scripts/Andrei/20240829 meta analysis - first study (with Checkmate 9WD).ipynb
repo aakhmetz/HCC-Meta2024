{
 "cells": [
  {
   "cell_type": "code",
   "execution_count": 1,
   "id": "4bea0058-5abb-4d19-ae81-744535d7f808",
   "metadata": {},
   "outputs": [
    {
     "data": {
      "text/html": [
       "'R version 4.4.0 (2024-04-24)'"
      ],
      "text/latex": [
       "'R version 4.4.0 (2024-04-24)'"
      ],
      "text/markdown": [
       "'R version 4.4.0 (2024-04-24)'"
      ],
      "text/plain": [
       "[1] \"R version 4.4.0 (2024-04-24)\""
      ]
     },
     "metadata": {},
     "output_type": "display_data"
    }
   ],
   "source": [
    "libraries = c(\"dplyr\", \"tidyr\", \"ggplot2\", \"readxl\", \"meta\", \"metasens\")\n",
    "for(x in libraries) { suppressMessages(library(x, character.only=TRUE, warn.conflicts=FALSE, quietly=TRUE)) }\n",
    "settings.meta(digits = 2, method.tau = \"PM\")\n",
    "\n",
    "R.Version()$version.string\n",
    "\n",
    "width_ = 7"
   ]
  },
  {
   "cell_type": "markdown",
   "id": "46e926ab-3478-420c-9249-a02ca89f2792",
   "metadata": {},
   "source": [
    "# A. Import data"
   ]
  },
  {
   "cell_type": "code",
   "execution_count": 2,
   "id": "8d5d463a-c088-4be3-8185-9d311ad776f8",
   "metadata": {},
   "outputs": [
    {
     "data": {
      "text/html": [
       "<table class=\"dataframe\">\n",
       "<caption>A tibble: 6 × 14</caption>\n",
       "<thead>\n",
       "\t<tr><th scope=col>Study</th><th scope=col>Ref</th><th scope=col>Category</th><th scope=col>IO arm</th><th scope=col>MKI arm</th><th scope=col>HR</th><th scope=col>95% CI low</th><th scope=col>95% CI high</th><th scope=col>log_hr</th><th scope=col>log_hr_lower</th><th scope=col>log_hr_upper</th><th scope=col>SE</th><th scope=col>Trial</th><th scope=col>Year</th></tr>\n",
       "\t<tr><th scope=col>&lt;chr&gt;</th><th scope=col>&lt;chr&gt;</th><th scope=col>&lt;chr&gt;</th><th scope=col>&lt;dbl&gt;</th><th scope=col>&lt;dbl&gt;</th><th scope=col>&lt;dbl&gt;</th><th scope=col>&lt;dbl&gt;</th><th scope=col>&lt;dbl&gt;</th><th scope=col>&lt;dbl&gt;</th><th scope=col>&lt;dbl&gt;</th><th scope=col>&lt;dbl&gt;</th><th scope=col>&lt;dbl&gt;</th><th scope=col>&lt;chr&gt;</th><th scope=col>&lt;dbl&gt;</th></tr>\n",
       "</thead>\n",
       "<tbody>\n",
       "\t<tr><td>CheckMate459</td><td>Yau et al. Lancet Oncol 2021</td><td><span style=white-space:pre-wrap>Age &gt;= 65 years       </span></td><td>186</td><td>196</td><td>0.88</td><td>0.68</td><td>1.12</td><td>-0.12783337</td><td>-0.3856625</td><td> 0.11332869</td><td>0.1272937</td><td>CheckMate459</td><td>2021</td></tr>\n",
       "\t<tr><td>CheckMate459</td><td>Yau et al. Lancet Oncol 2021</td><td><span style=white-space:pre-wrap>Age &lt; 65 years        </span></td><td>185</td><td>176</td><td>0.80</td><td>0.63</td><td>1.02</td><td>-0.22314355</td><td>-0.4620355</td><td> 0.01980263</td><td>0.1229179</td><td>CheckMate459</td><td>2021</td></tr>\n",
       "\t<tr><td>CheckMate459</td><td>Yau et al. Lancet Oncol 2021</td><td>Asia (excluding Japan)</td><td>147</td><td>148</td><td>0.74</td><td>0.56</td><td>0.98</td><td>-0.30110509</td><td>-0.5798185</td><td>-0.02020271</td><td>0.1427591</td><td>CheckMate459</td><td>2021</td></tr>\n",
       "\t<tr><td>CheckMate459</td><td>Yau et al. Lancet Oncol 2021</td><td>Rest of world         </td><td>224</td><td>224</td><td>0.92</td><td>0.74</td><td>1.14</td><td>-0.08338161</td><td>-0.3011051</td><td> 0.13102826</td><td>0.1102381</td><td>CheckMate459</td><td>2021</td></tr>\n",
       "\t<tr><td>CheckMate459</td><td>Yau et al. Lancet Oncol 2021</td><td>BCLC A                </td><td> 15</td><td> 18</td><td>0.49</td><td>0.17</td><td>1.40</td><td>-0.71334989</td><td>-1.7719568</td><td> 0.33647224</td><td>0.5378646</td><td>CheckMate459</td><td>2021</td></tr>\n",
       "\t<tr><td>CheckMate459</td><td>Yau et al. Lancet Oncol 2021</td><td>BCLC B                </td><td> 53</td><td> 63</td><td>1.35</td><td>0.86</td><td>2.11</td><td> 0.30010459</td><td>-0.1508229</td><td> 0.74668795</td><td>0.2289568</td><td>CheckMate459</td><td>2021</td></tr>\n",
       "</tbody>\n",
       "</table>\n"
      ],
      "text/latex": [
       "A tibble: 6 × 14\n",
       "\\begin{tabular}{llllllllllllll}\n",
       " Study & Ref & Category & IO arm & MKI arm & HR & 95\\% CI low & 95\\% CI high & log\\_hr & log\\_hr\\_lower & log\\_hr\\_upper & SE & Trial & Year\\\\\n",
       " <chr> & <chr> & <chr> & <dbl> & <dbl> & <dbl> & <dbl> & <dbl> & <dbl> & <dbl> & <dbl> & <dbl> & <chr> & <dbl>\\\\\n",
       "\\hline\n",
       "\t CheckMate459 & Yau et al. Lancet Oncol 2021 & Age >= 65 years        & 186 & 196 & 0.88 & 0.68 & 1.12 & -0.12783337 & -0.3856625 &  0.11332869 & 0.1272937 & CheckMate459 & 2021\\\\\n",
       "\t CheckMate459 & Yau et al. Lancet Oncol 2021 & Age < 65 years         & 185 & 176 & 0.80 & 0.63 & 1.02 & -0.22314355 & -0.4620355 &  0.01980263 & 0.1229179 & CheckMate459 & 2021\\\\\n",
       "\t CheckMate459 & Yau et al. Lancet Oncol 2021 & Asia (excluding Japan) & 147 & 148 & 0.74 & 0.56 & 0.98 & -0.30110509 & -0.5798185 & -0.02020271 & 0.1427591 & CheckMate459 & 2021\\\\\n",
       "\t CheckMate459 & Yau et al. Lancet Oncol 2021 & Rest of world          & 224 & 224 & 0.92 & 0.74 & 1.14 & -0.08338161 & -0.3011051 &  0.13102826 & 0.1102381 & CheckMate459 & 2021\\\\\n",
       "\t CheckMate459 & Yau et al. Lancet Oncol 2021 & BCLC A                 &  15 &  18 & 0.49 & 0.17 & 1.40 & -0.71334989 & -1.7719568 &  0.33647224 & 0.5378646 & CheckMate459 & 2021\\\\\n",
       "\t CheckMate459 & Yau et al. Lancet Oncol 2021 & BCLC B                 &  53 &  63 & 1.35 & 0.86 & 2.11 &  0.30010459 & -0.1508229 &  0.74668795 & 0.2289568 & CheckMate459 & 2021\\\\\n",
       "\\end{tabular}\n"
      ],
      "text/markdown": [
       "\n",
       "A tibble: 6 × 14\n",
       "\n",
       "| Study &lt;chr&gt; | Ref &lt;chr&gt; | Category &lt;chr&gt; | IO arm &lt;dbl&gt; | MKI arm &lt;dbl&gt; | HR &lt;dbl&gt; | 95% CI low &lt;dbl&gt; | 95% CI high &lt;dbl&gt; | log_hr &lt;dbl&gt; | log_hr_lower &lt;dbl&gt; | log_hr_upper &lt;dbl&gt; | SE &lt;dbl&gt; | Trial &lt;chr&gt; | Year &lt;dbl&gt; |\n",
       "|---|---|---|---|---|---|---|---|---|---|---|---|---|---|\n",
       "| CheckMate459 | Yau et al. Lancet Oncol 2021 | Age &gt;= 65 years        | 186 | 196 | 0.88 | 0.68 | 1.12 | -0.12783337 | -0.3856625 |  0.11332869 | 0.1272937 | CheckMate459 | 2021 |\n",
       "| CheckMate459 | Yau et al. Lancet Oncol 2021 | Age &lt; 65 years         | 185 | 176 | 0.80 | 0.63 | 1.02 | -0.22314355 | -0.4620355 |  0.01980263 | 0.1229179 | CheckMate459 | 2021 |\n",
       "| CheckMate459 | Yau et al. Lancet Oncol 2021 | Asia (excluding Japan) | 147 | 148 | 0.74 | 0.56 | 0.98 | -0.30110509 | -0.5798185 | -0.02020271 | 0.1427591 | CheckMate459 | 2021 |\n",
       "| CheckMate459 | Yau et al. Lancet Oncol 2021 | Rest of world          | 224 | 224 | 0.92 | 0.74 | 1.14 | -0.08338161 | -0.3011051 |  0.13102826 | 0.1102381 | CheckMate459 | 2021 |\n",
       "| CheckMate459 | Yau et al. Lancet Oncol 2021 | BCLC A                 |  15 |  18 | 0.49 | 0.17 | 1.40 | -0.71334989 | -1.7719568 |  0.33647224 | 0.5378646 | CheckMate459 | 2021 |\n",
       "| CheckMate459 | Yau et al. Lancet Oncol 2021 | BCLC B                 |  53 |  63 | 1.35 | 0.86 | 2.11 |  0.30010459 | -0.1508229 |  0.74668795 | 0.2289568 | CheckMate459 | 2021 |\n",
       "\n"
      ],
      "text/plain": [
       "  Study        Ref                          Category               IO arm\n",
       "1 CheckMate459 Yau et al. Lancet Oncol 2021 Age >= 65 years        186   \n",
       "2 CheckMate459 Yau et al. Lancet Oncol 2021 Age < 65 years         185   \n",
       "3 CheckMate459 Yau et al. Lancet Oncol 2021 Asia (excluding Japan) 147   \n",
       "4 CheckMate459 Yau et al. Lancet Oncol 2021 Rest of world          224   \n",
       "5 CheckMate459 Yau et al. Lancet Oncol 2021 BCLC A                  15   \n",
       "6 CheckMate459 Yau et al. Lancet Oncol 2021 BCLC B                  53   \n",
       "  MKI arm HR   95% CI low 95% CI high log_hr      log_hr_lower log_hr_upper\n",
       "1 196     0.88 0.68       1.12        -0.12783337 -0.3856625    0.11332869 \n",
       "2 176     0.80 0.63       1.02        -0.22314355 -0.4620355    0.01980263 \n",
       "3 148     0.74 0.56       0.98        -0.30110509 -0.5798185   -0.02020271 \n",
       "4 224     0.92 0.74       1.14        -0.08338161 -0.3011051    0.13102826 \n",
       "5  18     0.49 0.17       1.40        -0.71334989 -1.7719568    0.33647224 \n",
       "6  63     1.35 0.86       2.11         0.30010459 -0.1508229    0.74668795 \n",
       "  SE        Trial        Year\n",
       "1 0.1272937 CheckMate459 2021\n",
       "2 0.1229179 CheckMate459 2021\n",
       "3 0.1427591 CheckMate459 2021\n",
       "4 0.1102381 CheckMate459 2021\n",
       "5 0.5378646 CheckMate459 2021\n",
       "6 0.2289568 CheckMate459 2021"
      ]
     },
     "metadata": {},
     "output_type": "display_data"
    }
   ],
   "source": [
    "##!! data.xlsx will be shared later\n",
    "df = read_excel(\"../../data/data.xlsx\")\n",
    "df |> fill(Study, Ref, .direction = \"downup\") |> drop_na() |>\n",
    "    mutate(log_hr = log(HR), \n",
    "           log_hr_lower = log(`95% CI low`),\n",
    "           log_hr_upper = log(`95% CI high`),\n",
    "           SE = (log(`95% CI high`) - log(`95% CI low`)) / 2 / 1.96, \n",
    "           Trial = Study,\n",
    "           #Trial = paste0(Study, \" (\", Ref, \")\"),\n",
    "           Year = stringr::str_sub(Ref, start= -4), Year = as.numeric(Year)) |> arrange(Year) -> df\n",
    "df |> head()"
   ]
  },
  {
   "cell_type": "markdown",
   "id": "dad77ffd-73eb-45c1-979a-e78f7346a01b",
   "metadata": {},
   "source": [
    "# B. Meta-analysis"
   ]
  },
  {
   "cell_type": "markdown",
   "id": "8004b9e1-54de-4643-a701-1c6e855a99c4",
   "metadata": {},
   "source": [
    "## 1. Main study: with all references"
   ]
  },
  {
   "cell_type": "markdown",
   "id": "2f68fec5-bb92-4bbe-a7b6-762410597645",
   "metadata": {},
   "source": [
    "### 1.1. By etiology"
   ]
  },
  {
   "cell_type": "code",
   "execution_count": 3,
   "id": "0df5fb6a-cd11-473b-ab20-f1a0ce2e8280",
   "metadata": {},
   "outputs": [
    {
     "data": {
      "text/html": [
       "<table class=\"dataframe\">\n",
       "<caption>A tibble: 10 × 14</caption>\n",
       "<thead>\n",
       "\t<tr><th scope=col>Study</th><th scope=col>Ref</th><th scope=col>Category</th><th scope=col>IO arm</th><th scope=col>MKI arm</th><th scope=col>HR</th><th scope=col>95% CI low</th><th scope=col>95% CI high</th><th scope=col>log_hr</th><th scope=col>log_hr_lower</th><th scope=col>log_hr_upper</th><th scope=col>SE</th><th scope=col>Trial</th><th scope=col>Year</th></tr>\n",
       "\t<tr><th scope=col>&lt;chr&gt;</th><th scope=col>&lt;chr&gt;</th><th scope=col>&lt;chr&gt;</th><th scope=col>&lt;dbl&gt;</th><th scope=col>&lt;dbl&gt;</th><th scope=col>&lt;dbl&gt;</th><th scope=col>&lt;dbl&gt;</th><th scope=col>&lt;dbl&gt;</th><th scope=col>&lt;dbl&gt;</th><th scope=col>&lt;dbl&gt;</th><th scope=col>&lt;dbl&gt;</th><th scope=col>&lt;dbl&gt;</th><th scope=col>&lt;chr&gt;</th><th scope=col>&lt;dbl&gt;</th></tr>\n",
       "</thead>\n",
       "<tbody>\n",
       "\t<tr><td>CheckMate459           </td><td>Yau et al. Lancet Oncol 2021</td><td>HBV</td><td> 87</td><td> 86</td><td>0.71</td><td>0.49</td><td>1.01</td><td>-0.34249031</td><td>-0.7133499</td><td> 0.009950331</td><td>0.18451536</td><td>CheckMate459           </td><td>2021</td></tr>\n",
       "\t<tr><td>ORIENT32               </td><td>Ren et al. Lancet Oncol 2021</td><td>HBV</td><td>359</td><td>179</td><td>0.58</td><td>0.43</td><td>0.76</td><td>-0.54472718</td><td>-0.8439701</td><td>-0.274436846</td><td>0.14528909</td><td>ORIENT32               </td><td>2021</td></tr>\n",
       "\t<tr><td>IMBrave150             </td><td>Cheng, et al J Hepatol 2022 </td><td>HBV</td><td>164</td><td> 76</td><td>0.58</td><td>0.40</td><td>0.83</td><td>-0.54472718</td><td>-0.9162907</td><td>-0.186329578</td><td>0.18621458</td><td>IMBrave150             </td><td>2022</td></tr>\n",
       "\t<tr><td>RATIONALE301           </td><td>Qin et al. JAMA Oncol 2023  </td><td>HBV</td><td>214</td><td>213</td><td>0.91</td><td>0.73</td><td>1.14</td><td>-0.09431068</td><td>-0.3147107</td><td> 0.131028262</td><td>0.11370893</td><td>RATIONALE301           </td><td>2023</td></tr>\n",
       "\t<tr><td>HIMALAYA STRIDE arm    </td><td>Sangro et al AO 2024        </td><td>HBV</td><td>122</td><td>119</td><td>0.68</td><td>0.51</td><td>0.91</td><td>-0.38566248</td><td>-0.6733446</td><td>-0.094310679</td><td>0.14771272</td><td>HIMALAYA STRIDE arm    </td><td>2024</td></tr>\n",
       "\t<tr><td>HIMALAYA durvalumab arm</td><td>Sangro et al. AO 2024       </td><td>HBV</td><td>119</td><td>119</td><td>0.81</td><td>0.62</td><td>1.07</td><td>-0.21072103</td><td>-0.4780358</td><td> 0.067658648</td><td>0.13920777</td><td>HIMALAYA durvalumab arm</td><td>2024</td></tr>\n",
       "\t<tr><td>LEAP002                </td><td>Finn et al. ASCO GI 2024    </td><td>HBV</td><td>323</td><td>331</td><td>0.83</td><td>0.70</td><td>0.99</td><td>-0.18632958</td><td>-0.3566749</td><td>-0.010050336</td><td>0.08842464</td><td>LEAP002                </td><td>2024</td></tr>\n",
       "\t<tr><td>COSMIC312              </td><td>Yau et al. Lancet GI 2024   </td><td>HBV</td><td>127</td><td> 64</td><td>0.63</td><td>0.42</td><td>0.95</td><td>-0.46203546</td><td>-0.8675006</td><td>-0.051293294</td><td>0.20821614</td><td>COSMIC312              </td><td>2024</td></tr>\n",
       "\t<tr><td>CheckMate9DW           </td><td>Galle et al. ASCO 2024      </td><td>HBV</td><td>114</td><td>115</td><td>0.84</td><td>0.60</td><td>1.17</td><td>-0.17435339</td><td>-0.5108256</td><td> 0.157003749</td><td>0.17036464</td><td>CheckMate9DW           </td><td>2024</td></tr>\n",
       "\t<tr><td>CARES310               </td><td>Vogel et al. ASCO 2024      </td><td>HBV</td><td>208</td><td>197</td><td>0.70</td><td>0.55</td><td>0.89</td><td>-0.35667494</td><td>-0.5978370</td><td>-0.116533816</td><td>0.12278142</td><td>CARES310               </td><td>2024</td></tr>\n",
       "</tbody>\n",
       "</table>\n"
      ],
      "text/latex": [
       "A tibble: 10 × 14\n",
       "\\begin{tabular}{llllllllllllll}\n",
       " Study & Ref & Category & IO arm & MKI arm & HR & 95\\% CI low & 95\\% CI high & log\\_hr & log\\_hr\\_lower & log\\_hr\\_upper & SE & Trial & Year\\\\\n",
       " <chr> & <chr> & <chr> & <dbl> & <dbl> & <dbl> & <dbl> & <dbl> & <dbl> & <dbl> & <dbl> & <dbl> & <chr> & <dbl>\\\\\n",
       "\\hline\n",
       "\t CheckMate459            & Yau et al. Lancet Oncol 2021 & HBV &  87 &  86 & 0.71 & 0.49 & 1.01 & -0.34249031 & -0.7133499 &  0.009950331 & 0.18451536 & CheckMate459            & 2021\\\\\n",
       "\t ORIENT32                & Ren et al. Lancet Oncol 2021 & HBV & 359 & 179 & 0.58 & 0.43 & 0.76 & -0.54472718 & -0.8439701 & -0.274436846 & 0.14528909 & ORIENT32                & 2021\\\\\n",
       "\t IMBrave150              & Cheng, et al J Hepatol 2022  & HBV & 164 &  76 & 0.58 & 0.40 & 0.83 & -0.54472718 & -0.9162907 & -0.186329578 & 0.18621458 & IMBrave150              & 2022\\\\\n",
       "\t RATIONALE301            & Qin et al. JAMA Oncol 2023   & HBV & 214 & 213 & 0.91 & 0.73 & 1.14 & -0.09431068 & -0.3147107 &  0.131028262 & 0.11370893 & RATIONALE301            & 2023\\\\\n",
       "\t HIMALAYA STRIDE arm     & Sangro et al AO 2024         & HBV & 122 & 119 & 0.68 & 0.51 & 0.91 & -0.38566248 & -0.6733446 & -0.094310679 & 0.14771272 & HIMALAYA STRIDE arm     & 2024\\\\\n",
       "\t HIMALAYA durvalumab arm & Sangro et al. AO 2024        & HBV & 119 & 119 & 0.81 & 0.62 & 1.07 & -0.21072103 & -0.4780358 &  0.067658648 & 0.13920777 & HIMALAYA durvalumab arm & 2024\\\\\n",
       "\t LEAP002                 & Finn et al. ASCO GI 2024     & HBV & 323 & 331 & 0.83 & 0.70 & 0.99 & -0.18632958 & -0.3566749 & -0.010050336 & 0.08842464 & LEAP002                 & 2024\\\\\n",
       "\t COSMIC312               & Yau et al. Lancet GI 2024    & HBV & 127 &  64 & 0.63 & 0.42 & 0.95 & -0.46203546 & -0.8675006 & -0.051293294 & 0.20821614 & COSMIC312               & 2024\\\\\n",
       "\t CheckMate9DW            & Galle et al. ASCO 2024       & HBV & 114 & 115 & 0.84 & 0.60 & 1.17 & -0.17435339 & -0.5108256 &  0.157003749 & 0.17036464 & CheckMate9DW            & 2024\\\\\n",
       "\t CARES310                & Vogel et al. ASCO 2024       & HBV & 208 & 197 & 0.70 & 0.55 & 0.89 & -0.35667494 & -0.5978370 & -0.116533816 & 0.12278142 & CARES310                & 2024\\\\\n",
       "\\end{tabular}\n"
      ],
      "text/markdown": [
       "\n",
       "A tibble: 10 × 14\n",
       "\n",
       "| Study &lt;chr&gt; | Ref &lt;chr&gt; | Category &lt;chr&gt; | IO arm &lt;dbl&gt; | MKI arm &lt;dbl&gt; | HR &lt;dbl&gt; | 95% CI low &lt;dbl&gt; | 95% CI high &lt;dbl&gt; | log_hr &lt;dbl&gt; | log_hr_lower &lt;dbl&gt; | log_hr_upper &lt;dbl&gt; | SE &lt;dbl&gt; | Trial &lt;chr&gt; | Year &lt;dbl&gt; |\n",
       "|---|---|---|---|---|---|---|---|---|---|---|---|---|---|\n",
       "| CheckMate459            | Yau et al. Lancet Oncol 2021 | HBV |  87 |  86 | 0.71 | 0.49 | 1.01 | -0.34249031 | -0.7133499 |  0.009950331 | 0.18451536 | CheckMate459            | 2021 |\n",
       "| ORIENT32                | Ren et al. Lancet Oncol 2021 | HBV | 359 | 179 | 0.58 | 0.43 | 0.76 | -0.54472718 | -0.8439701 | -0.274436846 | 0.14528909 | ORIENT32                | 2021 |\n",
       "| IMBrave150              | Cheng, et al J Hepatol 2022  | HBV | 164 |  76 | 0.58 | 0.40 | 0.83 | -0.54472718 | -0.9162907 | -0.186329578 | 0.18621458 | IMBrave150              | 2022 |\n",
       "| RATIONALE301            | Qin et al. JAMA Oncol 2023   | HBV | 214 | 213 | 0.91 | 0.73 | 1.14 | -0.09431068 | -0.3147107 |  0.131028262 | 0.11370893 | RATIONALE301            | 2023 |\n",
       "| HIMALAYA STRIDE arm     | Sangro et al AO 2024         | HBV | 122 | 119 | 0.68 | 0.51 | 0.91 | -0.38566248 | -0.6733446 | -0.094310679 | 0.14771272 | HIMALAYA STRIDE arm     | 2024 |\n",
       "| HIMALAYA durvalumab arm | Sangro et al. AO 2024        | HBV | 119 | 119 | 0.81 | 0.62 | 1.07 | -0.21072103 | -0.4780358 |  0.067658648 | 0.13920777 | HIMALAYA durvalumab arm | 2024 |\n",
       "| LEAP002                 | Finn et al. ASCO GI 2024     | HBV | 323 | 331 | 0.83 | 0.70 | 0.99 | -0.18632958 | -0.3566749 | -0.010050336 | 0.08842464 | LEAP002                 | 2024 |\n",
       "| COSMIC312               | Yau et al. Lancet GI 2024    | HBV | 127 |  64 | 0.63 | 0.42 | 0.95 | -0.46203546 | -0.8675006 | -0.051293294 | 0.20821614 | COSMIC312               | 2024 |\n",
       "| CheckMate9DW            | Galle et al. ASCO 2024       | HBV | 114 | 115 | 0.84 | 0.60 | 1.17 | -0.17435339 | -0.5108256 |  0.157003749 | 0.17036464 | CheckMate9DW            | 2024 |\n",
       "| CARES310                | Vogel et al. ASCO 2024       | HBV | 208 | 197 | 0.70 | 0.55 | 0.89 | -0.35667494 | -0.5978370 | -0.116533816 | 0.12278142 | CARES310                | 2024 |\n",
       "\n"
      ],
      "text/plain": [
       "   Study                   Ref                          Category IO arm MKI arm\n",
       "1  CheckMate459            Yau et al. Lancet Oncol 2021 HBV       87     86    \n",
       "2  ORIENT32                Ren et al. Lancet Oncol 2021 HBV      359    179    \n",
       "3  IMBrave150              Cheng, et al J Hepatol 2022  HBV      164     76    \n",
       "4  RATIONALE301            Qin et al. JAMA Oncol 2023   HBV      214    213    \n",
       "5  HIMALAYA STRIDE arm     Sangro et al AO 2024         HBV      122    119    \n",
       "6  HIMALAYA durvalumab arm Sangro et al. AO 2024        HBV      119    119    \n",
       "7  LEAP002                 Finn et al. ASCO GI 2024     HBV      323    331    \n",
       "8  COSMIC312               Yau et al. Lancet GI 2024    HBV      127     64    \n",
       "9  CheckMate9DW            Galle et al. ASCO 2024       HBV      114    115    \n",
       "10 CARES310                Vogel et al. ASCO 2024       HBV      208    197    \n",
       "   HR   95% CI low 95% CI high log_hr      log_hr_lower log_hr_upper SE        \n",
       "1  0.71 0.49       1.01        -0.34249031 -0.7133499    0.009950331 0.18451536\n",
       "2  0.58 0.43       0.76        -0.54472718 -0.8439701   -0.274436846 0.14528909\n",
       "3  0.58 0.40       0.83        -0.54472718 -0.9162907   -0.186329578 0.18621458\n",
       "4  0.91 0.73       1.14        -0.09431068 -0.3147107    0.131028262 0.11370893\n",
       "5  0.68 0.51       0.91        -0.38566248 -0.6733446   -0.094310679 0.14771272\n",
       "6  0.81 0.62       1.07        -0.21072103 -0.4780358    0.067658648 0.13920777\n",
       "7  0.83 0.70       0.99        -0.18632958 -0.3566749   -0.010050336 0.08842464\n",
       "8  0.63 0.42       0.95        -0.46203546 -0.8675006   -0.051293294 0.20821614\n",
       "9  0.84 0.60       1.17        -0.17435339 -0.5108256    0.157003749 0.17036464\n",
       "10 0.70 0.55       0.89        -0.35667494 -0.5978370   -0.116533816 0.12278142\n",
       "   Trial                   Year\n",
       "1  CheckMate459            2021\n",
       "2  ORIENT32                2021\n",
       "3  IMBrave150              2022\n",
       "4  RATIONALE301            2023\n",
       "5  HIMALAYA STRIDE arm     2024\n",
       "6  HIMALAYA durvalumab arm 2024\n",
       "7  LEAP002                 2024\n",
       "8  COSMIC312               2024\n",
       "9  CheckMate9DW            2024\n",
       "10 CARES310                2024"
      ]
     },
     "metadata": {},
     "output_type": "display_data"
    }
   ],
   "source": [
    "df |> filter(Category %in% c(\"HBV\", \"HCV\", \"Nonviral\")) -> df_sub\n",
    "df_sub |> filter(Category=='HBV')"
   ]
  },
  {
   "cell_type": "code",
   "execution_count": 4,
   "id": "f758f3cb-5049-4e78-8dcb-79eec6e89d2d",
   "metadata": {},
   "outputs": [
    {
     "data": {
      "text/plain": [
       "                          HR       95%-CI %W(common) %W(random)\n",
       "CheckMate459            0.71 [0.49; 1.02]        5.5        6.4\n",
       "ORIENT32                0.58 [0.44; 0.77]        8.9        9.5\n",
       "IMBrave150              0.58 [0.40; 0.84]        5.4        6.3\n",
       "RATIONALE301            0.91 [0.73; 1.14]       14.5       13.9\n",
       "HIMALAYA STRIDE arm     0.68 [0.51; 0.91]        8.6        9.3\n",
       "HIMALAYA durvalumab arm 0.81 [0.62; 1.06]        9.7       10.2\n",
       "LEAP002                 0.83 [0.70; 0.99]       24.0       19.5\n",
       "COSMIC312               0.63 [0.42; 0.95]        4.3        5.1\n",
       "CheckMate9DW            0.84 [0.60; 1.17]        6.5        7.3\n",
       "CARES310                0.70 [0.55; 0.89]       12.5       12.4\n",
       "\n",
       "Number of studies: k = 10\n",
       "\n",
       "                       HR       95%-CI     z  p-value\n",
       "Common effect model  0.75 [0.69; 0.82] -6.57 < 0.0001\n",
       "Random effects model 0.74 [0.67; 0.82] -5.93 < 0.0001\n",
       "\n",
       "Quantifying heterogeneity:\n",
       " tau^2 = 0.0049 [0.0000; 0.0623]; tau = 0.0702 [0.0000; 0.2496]\n",
       " I^2 = 21.9% [0.0%; 61.8%]; H = 1.13 [1.00; 1.62]\n",
       "\n",
       "Test of heterogeneity:\n",
       "     Q d.f. p-value\n",
       " 11.53    9  0.2411\n",
       "\n",
       "Details on meta-analytical method:\n",
       "- Inverse variance method\n",
       "- Paule-Mandel estimator for tau^2\n",
       "- Q-Profile method for confidence interval of tau^2 and tau"
      ]
     },
     "metadata": {},
     "output_type": "display_data"
    },
    {
     "data": {
      "image/png": "[encoded data removed]",
      "text/plain": [
       "plot without title"
      ]
     },
     "metadata": {
      "image/png": {
       "height": 420,
       "width": 420
      }
     },
     "output_type": "display_data"
    }
   ],
   "source": [
    "ma_model_HBV = metagen(log_hr, SE, data = df |> filter(Category=='HBV'), studlab=Study, sm=\"HR\")\n",
    "summary(ma_model_HBV)\n",
    "forest(ma_model_HBV, fontsize = 9, \n",
    "       fixed = FALSE,\n",
    "       leftlabs = c(\"Study\"))"
   ]
  },
  {
   "cell_type": "code",
   "execution_count": 5,
   "id": "31e8c38a-b4e1-4c2c-801e-d95004a041cb",
   "metadata": {},
   "outputs": [],
   "source": [
    "ma_model_etiology = metagen(log_hr, \n",
    "                            lower = log_hr_lower,\n",
    "                            upper = log_hr_upper,\n",
    "                            data = df_sub, studlab=Trial, subgroup = Category, sm=\"HR\")\n",
    "# summary(ma_model_etiology)\n",
    "forest(ma_model_etiology, \n",
    "       fontsize = 9, \n",
    "       spacing = .95,\n",
    "       width = width_,\n",
    "       xlim = c(.2, 2),\n",
    "       file = \"../../figures/Figure2_etiology.pdf\",\n",
    "       fixed = FALSE,\n",
    "       print.tau2 = FALSE, \n",
    "       colgap.forest.left = \".4cm\",\n",
    "       leftcols = c(\"studlab\"),\n",
    "       leftlabs = c(\"Study\"))"
   ]
  },
  {
   "cell_type": "code",
   "execution_count": 7,
   "id": "a4f8f92d-fad4-441c-bc60-11eb87fa6581",
   "metadata": {},
   "outputs": [],
   "source": [
    "ma_model_etiology = metagen(log_hr, \n",
    "                            lower = log_hr_lower,\n",
    "                            upper = log_hr_upper,\n",
    "                            data = df_sub, studlab=Trial, subgroup = Category, sm=\"HR\")\n",
    "# summary(ma_model_etiology)\n",
    "forest(ma_model_etiology, \n",
    "       fontsize = 9, \n",
    "       spacing = .95,\n",
    "       xlim = c(.2, 2),\n",
    "       width = width_,\n",
    "       file = \"../../figures/FigureS14_etiology_fixed_effect.pdf\",\n",
    "       fixed = TRUE,\n",
    "       random = FALSE,\n",
    "       print.tau2 = FALSE, \n",
    "       colgap.forest.left = \".4cm\",\n",
    "       leftcols = c(\"studlab\"),\n",
    "       leftlabs = c(\"Study\"))"
   ]
  },
  {
   "cell_type": "code",
   "execution_count": 8,
   "id": "05536a7e-2e6d-487a-adb6-bb59f9c64ac1",
   "metadata": {},
   "outputs": [
    {
     "data": {
      "text/html": [
       "<strong>pdf:</strong> 2"
      ],
      "text/latex": [
       "\\textbf{pdf:} 2"
      ],
      "text/markdown": [
       "**pdf:** 2"
      ],
      "text/plain": [
       "pdf \n",
       "  2 "
      ]
     },
     "metadata": {},
     "output_type": "display_data"
    }
   ],
   "source": [
    "# publication bias\n",
    "pdf(file='../../figures/FigureS15_etiology_publication_bias.pdf')\n",
    "funnel(ma_model_etiology,\n",
    "       log = \"x\",\n",
    "       random = TRUE,\n",
    "       fixed = F)\n",
    "dev.off()"
   ]
  },
  {
   "cell_type": "markdown",
   "id": "968db601-a54e-41b0-b3b3-a25a306ef591",
   "metadata": {},
   "source": [
    "### 1.2. By other subgroups"
   ]
  },
  {
   "cell_type": "code",
   "execution_count": 9,
   "id": "64612188-430c-437c-8def-d955d96913d7",
   "metadata": {},
   "outputs": [],
   "source": [
    "for (str_ in c(\"Age\", \"AFP\", \"ECOG\", \"PD-L1\", \"Child-Pugh\")) {\n",
    "    df |> filter(grepl(str_, Category)) -> df_sub\n",
    "    ma_model_etiology = metagen(log_hr,\n",
    "                                lower = log_hr_lower,\n",
    "                                upper = log_hr_upper, \n",
    "                                SE, data = df_sub, studlab=Trial, subgroup = Category, sm=\"HR\")\n",
    "    forest(ma_model_etiology, \n",
    "           fontsize = 9, \n",
    "           spacing = .95,\n",
    "           xlim = c(.2, 2),\n",
    "           width = width_,\n",
    "           file = paste0(\"../../figures/meta1_\", str_, \".pdf\"),\n",
    "           fixed = FALSE,\n",
    "           print.tau2 = FALSE, \n",
    "           colgap.forest.left = \".4cm\",\n",
    "           leftcols = c(\"studlab\"),\n",
    "           leftlabs = c(\"Study\"))\n",
    "}"
   ]
  },
  {
   "cell_type": "code",
   "execution_count": 10,
   "id": "9f903f28-f481-4ead-96dd-ac8be40ab2b7",
   "metadata": {},
   "outputs": [],
   "source": [
    "df |> filter(grepl('Age >= 65 years|Age < 65 years', Category)) -> df_sub\n",
    "ma_model_etiology = metagen(log_hr, \n",
    "                            lower = log_hr_lower,\n",
    "                            upper = log_hr_upper, \n",
    "                            data = df_sub, studlab=Trial, subgroup = Category, sm=\"HR\")\n",
    "# summary(ma_model_etiology)\n",
    "forest(ma_model_etiology, \n",
    "       fontsize = 9, \n",
    "       spacing = .95,\n",
    "       width = width_,\n",
    "       xlim = c(.2, 2),\n",
    "       file = \"../../figures/meta1_Age_sub.pdf\",\n",
    "       fixed = FALSE,\n",
    "       print.tau2 = FALSE, \n",
    "       colgap.forest.left = \".4cm\",\n",
    "       leftcols = c(\"studlab\"),\n",
    "       leftlabs = c(\"Study\"))"
   ]
  },
  {
   "cell_type": "code",
   "execution_count": 11,
   "id": "1d206f23-5472-4b87-b864-876fbd43ec95",
   "metadata": {},
   "outputs": [],
   "source": [
    "df |> filter(grepl('BCLC B|BCLC C', Category)) -> df_sub\n",
    "ma_model_etiology = metagen(log_hr, \n",
    "                            lower = log_hr_lower,\n",
    "                            upper = log_hr_upper, \n",
    "                            data = df_sub, studlab=Trial, subgroup = Category, sm=\"HR\")\n",
    "# summary(ma_model_etiology)\n",
    "forest(ma_model_etiology, \n",
    "       fontsize = 9, \n",
    "       spacing = .82,\n",
    "       width = width_,\n",
    "       xlim = c(.2, 2),\n",
    "       file = \"../../figures/meta1_BCLC.pdf\",\n",
    "       fixed = FALSE,\n",
    "       print.tau2 = FALSE, \n",
    "       colgap.forest.left = \".4cm\",\n",
    "       leftcols = c(\"studlab\"),\n",
    "       leftlabs = c(\"Study\"))"
   ]
  },
  {
   "cell_type": "code",
   "execution_count": 12,
   "id": "ead39910-6a22-4a76-a188-f81459f2b3e9",
   "metadata": {},
   "outputs": [],
   "source": [
    "df |> filter(grepl('Male|Female', Category)) -> df_sub\n",
    "ma_model_etiology = metagen(log_hr, \n",
    "                            lower = log_hr_lower,\n",
    "                            upper = log_hr_upper, \n",
    "                            data = df_sub, studlab=Trial, subgroup = Category, sm=\"HR\")\n",
    "# summary(ma_model_etiology)\n",
    "forest(ma_model_etiology, \n",
    "       fontsize = 9, \n",
    "       spacing = .82,\n",
    "       width = width_,\n",
    "       xlim = c(.2, 2),\n",
    "       file = \"../../figures/meta1_sexes.pdf\",\n",
    "       fixed = FALSE,\n",
    "       print.tau2 = FALSE, \n",
    "       colgap.forest.left = \".4cm\",\n",
    "       leftcols = c(\"studlab\"),\n",
    "       leftlabs = c(\"Study\"))"
   ]
  },
  {
   "cell_type": "code",
   "execution_count": 13,
   "id": "ef980dd2-f160-4a36-83bb-c2fc87525a90",
   "metadata": {},
   "outputs": [],
   "source": [
    "df |> filter(grepl('MVI yes|MVI no', Category)) -> df_sub\n",
    "ma_model_etiology = metagen(log_hr, \n",
    "                            lower = log_hr_lower,\n",
    "                            upper = log_hr_upper,\n",
    "                            data = df_sub, studlab=Trial, subgroup = Category, sm=\"HR\")\n",
    "# summary(ma_model_etiology)\n",
    "forest(ma_model_etiology, \n",
    "       fontsize = 9, \n",
    "       spacing = .82,\n",
    "       width = width_,\n",
    "       xlim = c(.2, 2),\n",
    "       file = \"../../figures/meta1_MVI.pdf\",\n",
    "       fixed = FALSE,\n",
    "       print.tau2 = FALSE, \n",
    "       colgap.forest.left = \".4cm\",\n",
    "       leftcols = c(\"studlab\"),\n",
    "       leftlabs = c(\"Study\"))"
   ]
  },
  {
   "cell_type": "code",
   "execution_count": 14,
   "id": "32ea14e2-f007-4429-b954-b7c0b14b2624",
   "metadata": {},
   "outputs": [],
   "source": [
    "df |> filter(Category %in% c('EHS yes', 'EHS no')) -> df_sub\n",
    "ma_model_etiology = metagen(log_hr, \n",
    "                            lower = log_hr_lower,\n",
    "                            upper = log_hr_upper,\n",
    "                            data = df_sub, studlab=Trial, subgroup = Category, sm=\"HR\")\n",
    "# summary(ma_model_etiology)\n",
    "forest(ma_model_etiology, \n",
    "       fontsize = 9, \n",
    "       spacing = .82,\n",
    "       width = width_,\n",
    "       xlim = c(.2, 2),\n",
    "       file = \"../../figures/meta1_EHS.pdf\",\n",
    "       fixed = FALSE,\n",
    "       print.tau2 = FALSE, \n",
    "       colgap.forest.left = \".4cm\",\n",
    "       leftcols = c(\"studlab\"),\n",
    "       leftlabs = c(\"Study\"))"
   ]
  },
  {
   "cell_type": "code",
   "execution_count": 15,
   "id": "3a67a71b-158d-4b81-a755-f8e4bf670634",
   "metadata": {},
   "outputs": [],
   "source": [
    "df |> filter(grepl('MVI or EHS yes|MVI or EHS no', Category)) -> df_sub\n",
    "ma_model_etiology = metagen(log_hr, \n",
    "                            lower = log_hr_lower,\n",
    "                            upper = log_hr_upper,\n",
    "                            data = df_sub, studlab=Trial, subgroup = Category, sm=\"HR\")\n",
    "# summary(ma_model_etiology)\n",
    "forest(ma_model_etiology, \n",
    "       fontsize = 9, \n",
    "       spacing = .82,\n",
    "       width = width_,\n",
    "       xlim = c(.2, 2),\n",
    "       file = \"../../figures/meta1_MVIorEHS.pdf\",\n",
    "       fixed = FALSE,\n",
    "       print.tau2 = FALSE, \n",
    "       colgap.forest.left = \".4cm\",\n",
    "       leftcols = c(\"studlab\"),\n",
    "       leftlabs = c(\"Study\"))"
   ]
  },
  {
   "cell_type": "code",
   "execution_count": 16,
   "id": "130e1417-d3ef-4adf-a497-0348ee43d7d6",
   "metadata": {},
   "outputs": [],
   "source": [
    "df |> filter(grepl('excluding Japan)|Rest of', Category)) -> df_sub\n",
    "ma_model_etiology = metagen(log_hr, \n",
    "                            lower = log_hr_lower,\n",
    "                            upper = log_hr_upper,\n",
    "                            data = df_sub, studlab=Trial, subgroup = Category, sm=\"HR\")\n",
    "# summary(ma_model_etiology)\n",
    "forest(ma_model_etiology, \n",
    "       fontsize = 9, \n",
    "       spacing = .82,\n",
    "       width = width_,\n",
    "       xlim = c(.2, 2),\n",
    "       file = \"../../figures/meta1_geo.pdf\",\n",
    "       fixed = FALSE,\n",
    "       print.tau2 = FALSE, \n",
    "       colgap.forest.left = \".4cm\",\n",
    "       leftcols = c(\"studlab\"),\n",
    "       leftlabs = c(\"Study\"))"
   ]
  },
  {
   "cell_type": "code",
   "execution_count": 17,
   "id": "2b3c0fa5-df16-44d7-8d7b-a94785453f98",
   "metadata": {},
   "outputs": [],
   "source": [
    "df |> filter(grepl('- Asia|- Non-Asia', Category)) -> df_sub\n",
    "ma_model_etiology = metagen(log_hr, \n",
    "                            lower = log_hr_lower,\n",
    "                            upper = log_hr_upper,\n",
    "                            data = df_sub, studlab=Trial, subgroup = Category, sm=\"HR\")\n",
    "# summary(ma_model_etiology)\n",
    "forest(ma_model_etiology, \n",
    "       fontsize = 9, \n",
    "       spacing = .82,\n",
    "       width = width_,\n",
    "       xlim = c(.2, 2),\n",
    "       file = \"../../figures/meta1_geo_NoHBV.pdf\",\n",
    "       fixed = FALSE,\n",
    "       print.tau2 = FALSE, \n",
    "       colgap.forest.left = \".4cm\",\n",
    "       leftcols = c(\"studlab\"),\n",
    "       leftlabs = c(\"Study\"))"
   ]
  },
  {
   "cell_type": "markdown",
   "id": "bdadc247-5d29-42ad-889e-5ef61c4d4d4b",
   "metadata": {},
   "source": [
    "## 2. Second study: excluding HIMALAYA stride arm"
   ]
  },
  {
   "cell_type": "code",
   "execution_count": 18,
   "id": "924de0d1-ea9d-44df-a330-f0e5145768ca",
   "metadata": {},
   "outputs": [
    {
     "data": {
      "text/html": [
       "<table class=\"dataframe\">\n",
       "<caption>A tibble: 9 × 14</caption>\n",
       "<thead>\n",
       "\t<tr><th scope=col>Study</th><th scope=col>Ref</th><th scope=col>Category</th><th scope=col>IO arm</th><th scope=col>MKI arm</th><th scope=col>HR</th><th scope=col>95% CI low</th><th scope=col>95% CI high</th><th scope=col>log_hr</th><th scope=col>log_hr_lower</th><th scope=col>log_hr_upper</th><th scope=col>SE</th><th scope=col>Trial</th><th scope=col>Year</th></tr>\n",
       "\t<tr><th scope=col>&lt;chr&gt;</th><th scope=col>&lt;chr&gt;</th><th scope=col>&lt;chr&gt;</th><th scope=col>&lt;dbl&gt;</th><th scope=col>&lt;dbl&gt;</th><th scope=col>&lt;dbl&gt;</th><th scope=col>&lt;dbl&gt;</th><th scope=col>&lt;dbl&gt;</th><th scope=col>&lt;dbl&gt;</th><th scope=col>&lt;dbl&gt;</th><th scope=col>&lt;dbl&gt;</th><th scope=col>&lt;dbl&gt;</th><th scope=col>&lt;chr&gt;</th><th scope=col>&lt;dbl&gt;</th></tr>\n",
       "</thead>\n",
       "<tbody>\n",
       "\t<tr><td>CheckMate459           </td><td>Yau et al. Lancet Oncol 2021</td><td>HBV</td><td> 87</td><td> 86</td><td>0.71</td><td>0.49</td><td>1.01</td><td>-0.34249031</td><td>-0.7133499</td><td> 0.009950331</td><td>0.18451536</td><td>CheckMate459           </td><td>2021</td></tr>\n",
       "\t<tr><td>ORIENT32               </td><td>Ren et al. Lancet Oncol 2021</td><td>HBV</td><td>359</td><td>179</td><td>0.58</td><td>0.43</td><td>0.76</td><td>-0.54472718</td><td>-0.8439701</td><td>-0.274436846</td><td>0.14528909</td><td>ORIENT32               </td><td>2021</td></tr>\n",
       "\t<tr><td>IMBrave150             </td><td>Cheng, et al J Hepatol 2022 </td><td>HBV</td><td>164</td><td> 76</td><td>0.58</td><td>0.40</td><td>0.83</td><td>-0.54472718</td><td>-0.9162907</td><td>-0.186329578</td><td>0.18621458</td><td>IMBrave150             </td><td>2022</td></tr>\n",
       "\t<tr><td>RATIONALE301           </td><td>Qin et al. JAMA Oncol 2023  </td><td>HBV</td><td>214</td><td>213</td><td>0.91</td><td>0.73</td><td>1.14</td><td>-0.09431068</td><td>-0.3147107</td><td> 0.131028262</td><td>0.11370893</td><td>RATIONALE301           </td><td>2023</td></tr>\n",
       "\t<tr><td>HIMALAYA durvalumab arm</td><td>Sangro et al. AO 2024       </td><td>HBV</td><td>119</td><td>119</td><td>0.81</td><td>0.62</td><td>1.07</td><td>-0.21072103</td><td>-0.4780358</td><td> 0.067658648</td><td>0.13920777</td><td>HIMALAYA durvalumab arm</td><td>2024</td></tr>\n",
       "\t<tr><td>LEAP002                </td><td>Finn et al. ASCO GI 2024    </td><td>HBV</td><td>323</td><td>331</td><td>0.83</td><td>0.70</td><td>0.99</td><td>-0.18632958</td><td>-0.3566749</td><td>-0.010050336</td><td>0.08842464</td><td>LEAP002                </td><td>2024</td></tr>\n",
       "\t<tr><td>COSMIC312              </td><td>Yau et al. Lancet GI 2024   </td><td>HBV</td><td>127</td><td> 64</td><td>0.63</td><td>0.42</td><td>0.95</td><td>-0.46203546</td><td>-0.8675006</td><td>-0.051293294</td><td>0.20821614</td><td>COSMIC312              </td><td>2024</td></tr>\n",
       "\t<tr><td>CheckMate9DW           </td><td>Galle et al. ASCO 2024      </td><td>HBV</td><td>114</td><td>115</td><td>0.84</td><td>0.60</td><td>1.17</td><td>-0.17435339</td><td>-0.5108256</td><td> 0.157003749</td><td>0.17036464</td><td>CheckMate9DW           </td><td>2024</td></tr>\n",
       "\t<tr><td>CARES310               </td><td>Vogel et al. ASCO 2024      </td><td>HBV</td><td>208</td><td>197</td><td>0.70</td><td>0.55</td><td>0.89</td><td>-0.35667494</td><td>-0.5978370</td><td>-0.116533816</td><td>0.12278142</td><td>CARES310               </td><td>2024</td></tr>\n",
       "</tbody>\n",
       "</table>\n"
      ],
      "text/latex": [
       "A tibble: 9 × 14\n",
       "\\begin{tabular}{llllllllllllll}\n",
       " Study & Ref & Category & IO arm & MKI arm & HR & 95\\% CI low & 95\\% CI high & log\\_hr & log\\_hr\\_lower & log\\_hr\\_upper & SE & Trial & Year\\\\\n",
       " <chr> & <chr> & <chr> & <dbl> & <dbl> & <dbl> & <dbl> & <dbl> & <dbl> & <dbl> & <dbl> & <dbl> & <chr> & <dbl>\\\\\n",
       "\\hline\n",
       "\t CheckMate459            & Yau et al. Lancet Oncol 2021 & HBV &  87 &  86 & 0.71 & 0.49 & 1.01 & -0.34249031 & -0.7133499 &  0.009950331 & 0.18451536 & CheckMate459            & 2021\\\\\n",
       "\t ORIENT32                & Ren et al. Lancet Oncol 2021 & HBV & 359 & 179 & 0.58 & 0.43 & 0.76 & -0.54472718 & -0.8439701 & -0.274436846 & 0.14528909 & ORIENT32                & 2021\\\\\n",
       "\t IMBrave150              & Cheng, et al J Hepatol 2022  & HBV & 164 &  76 & 0.58 & 0.40 & 0.83 & -0.54472718 & -0.9162907 & -0.186329578 & 0.18621458 & IMBrave150              & 2022\\\\\n",
       "\t RATIONALE301            & Qin et al. JAMA Oncol 2023   & HBV & 214 & 213 & 0.91 & 0.73 & 1.14 & -0.09431068 & -0.3147107 &  0.131028262 & 0.11370893 & RATIONALE301            & 2023\\\\\n",
       "\t HIMALAYA durvalumab arm & Sangro et al. AO 2024        & HBV & 119 & 119 & 0.81 & 0.62 & 1.07 & -0.21072103 & -0.4780358 &  0.067658648 & 0.13920777 & HIMALAYA durvalumab arm & 2024\\\\\n",
       "\t LEAP002                 & Finn et al. ASCO GI 2024     & HBV & 323 & 331 & 0.83 & 0.70 & 0.99 & -0.18632958 & -0.3566749 & -0.010050336 & 0.08842464 & LEAP002                 & 2024\\\\\n",
       "\t COSMIC312               & Yau et al. Lancet GI 2024    & HBV & 127 &  64 & 0.63 & 0.42 & 0.95 & -0.46203546 & -0.8675006 & -0.051293294 & 0.20821614 & COSMIC312               & 2024\\\\\n",
       "\t CheckMate9DW            & Galle et al. ASCO 2024       & HBV & 114 & 115 & 0.84 & 0.60 & 1.17 & -0.17435339 & -0.5108256 &  0.157003749 & 0.17036464 & CheckMate9DW            & 2024\\\\\n",
       "\t CARES310                & Vogel et al. ASCO 2024       & HBV & 208 & 197 & 0.70 & 0.55 & 0.89 & -0.35667494 & -0.5978370 & -0.116533816 & 0.12278142 & CARES310                & 2024\\\\\n",
       "\\end{tabular}\n"
      ],
      "text/markdown": [
       "\n",
       "A tibble: 9 × 14\n",
       "\n",
       "| Study &lt;chr&gt; | Ref &lt;chr&gt; | Category &lt;chr&gt; | IO arm &lt;dbl&gt; | MKI arm &lt;dbl&gt; | HR &lt;dbl&gt; | 95% CI low &lt;dbl&gt; | 95% CI high &lt;dbl&gt; | log_hr &lt;dbl&gt; | log_hr_lower &lt;dbl&gt; | log_hr_upper &lt;dbl&gt; | SE &lt;dbl&gt; | Trial &lt;chr&gt; | Year &lt;dbl&gt; |\n",
       "|---|---|---|---|---|---|---|---|---|---|---|---|---|---|\n",
       "| CheckMate459            | Yau et al. Lancet Oncol 2021 | HBV |  87 |  86 | 0.71 | 0.49 | 1.01 | -0.34249031 | -0.7133499 |  0.009950331 | 0.18451536 | CheckMate459            | 2021 |\n",
       "| ORIENT32                | Ren et al. Lancet Oncol 2021 | HBV | 359 | 179 | 0.58 | 0.43 | 0.76 | -0.54472718 | -0.8439701 | -0.274436846 | 0.14528909 | ORIENT32                | 2021 |\n",
       "| IMBrave150              | Cheng, et al J Hepatol 2022  | HBV | 164 |  76 | 0.58 | 0.40 | 0.83 | -0.54472718 | -0.9162907 | -0.186329578 | 0.18621458 | IMBrave150              | 2022 |\n",
       "| RATIONALE301            | Qin et al. JAMA Oncol 2023   | HBV | 214 | 213 | 0.91 | 0.73 | 1.14 | -0.09431068 | -0.3147107 |  0.131028262 | 0.11370893 | RATIONALE301            | 2023 |\n",
       "| HIMALAYA durvalumab arm | Sangro et al. AO 2024        | HBV | 119 | 119 | 0.81 | 0.62 | 1.07 | -0.21072103 | -0.4780358 |  0.067658648 | 0.13920777 | HIMALAYA durvalumab arm | 2024 |\n",
       "| LEAP002                 | Finn et al. ASCO GI 2024     | HBV | 323 | 331 | 0.83 | 0.70 | 0.99 | -0.18632958 | -0.3566749 | -0.010050336 | 0.08842464 | LEAP002                 | 2024 |\n",
       "| COSMIC312               | Yau et al. Lancet GI 2024    | HBV | 127 |  64 | 0.63 | 0.42 | 0.95 | -0.46203546 | -0.8675006 | -0.051293294 | 0.20821614 | COSMIC312               | 2024 |\n",
       "| CheckMate9DW            | Galle et al. ASCO 2024       | HBV | 114 | 115 | 0.84 | 0.60 | 1.17 | -0.17435339 | -0.5108256 |  0.157003749 | 0.17036464 | CheckMate9DW            | 2024 |\n",
       "| CARES310                | Vogel et al. ASCO 2024       | HBV | 208 | 197 | 0.70 | 0.55 | 0.89 | -0.35667494 | -0.5978370 | -0.116533816 | 0.12278142 | CARES310                | 2024 |\n",
       "\n"
      ],
      "text/plain": [
       "  Study                   Ref                          Category IO arm MKI arm\n",
       "1 CheckMate459            Yau et al. Lancet Oncol 2021 HBV       87     86    \n",
       "2 ORIENT32                Ren et al. Lancet Oncol 2021 HBV      359    179    \n",
       "3 IMBrave150              Cheng, et al J Hepatol 2022  HBV      164     76    \n",
       "4 RATIONALE301            Qin et al. JAMA Oncol 2023   HBV      214    213    \n",
       "5 HIMALAYA durvalumab arm Sangro et al. AO 2024        HBV      119    119    \n",
       "6 LEAP002                 Finn et al. ASCO GI 2024     HBV      323    331    \n",
       "7 COSMIC312               Yau et al. Lancet GI 2024    HBV      127     64    \n",
       "8 CheckMate9DW            Galle et al. ASCO 2024       HBV      114    115    \n",
       "9 CARES310                Vogel et al. ASCO 2024       HBV      208    197    \n",
       "  HR   95% CI low 95% CI high log_hr      log_hr_lower log_hr_upper SE        \n",
       "1 0.71 0.49       1.01        -0.34249031 -0.7133499    0.009950331 0.18451536\n",
       "2 0.58 0.43       0.76        -0.54472718 -0.8439701   -0.274436846 0.14528909\n",
       "3 0.58 0.40       0.83        -0.54472718 -0.9162907   -0.186329578 0.18621458\n",
       "4 0.91 0.73       1.14        -0.09431068 -0.3147107    0.131028262 0.11370893\n",
       "5 0.81 0.62       1.07        -0.21072103 -0.4780358    0.067658648 0.13920777\n",
       "6 0.83 0.70       0.99        -0.18632958 -0.3566749   -0.010050336 0.08842464\n",
       "7 0.63 0.42       0.95        -0.46203546 -0.8675006   -0.051293294 0.20821614\n",
       "8 0.84 0.60       1.17        -0.17435339 -0.5108256    0.157003749 0.17036464\n",
       "9 0.70 0.55       0.89        -0.35667494 -0.5978370   -0.116533816 0.12278142\n",
       "  Trial                   Year\n",
       "1 CheckMate459            2021\n",
       "2 ORIENT32                2021\n",
       "3 IMBrave150              2022\n",
       "4 RATIONALE301            2023\n",
       "5 HIMALAYA durvalumab arm 2024\n",
       "6 LEAP002                 2024\n",
       "7 COSMIC312               2024\n",
       "8 CheckMate9DW            2024\n",
       "9 CARES310                2024"
      ]
     },
     "metadata": {},
     "output_type": "display_data"
    }
   ],
   "source": [
    "df |> filter(Category %in% c(\"HBV\", \"HCV\", \"Nonviral\"), Study!='HIMALAYA STRIDE arm') -> df_sub\n",
    "df_sub |> filter(Category=='HBV')\n",
    "\n",
    "ma_model_etiology = metagen(log_hr, \n",
    "                            lower = log_hr_lower,\n",
    "                            upper = log_hr_upper,\n",
    "                            data = df_sub, studlab=Trial, subgroup = Category, sm=\"HR\")\n",
    "# summary(ma_model_etiology)\n",
    "forest(ma_model_etiology, \n",
    "       fontsize = 9, \n",
    "       spacing = .95,\n",
    "       width = width_,\n",
    "       xlim = c(.2, 2),\n",
    "       file = \"../../figures/FigureS13_etiology_excl_HIMALAYA_STRIDE_arm.pdf\",\n",
    "       fixed = FALSE,\n",
    "       print.tau2 = FALSE, \n",
    "       colgap.forest.left = \".4cm\",\n",
    "       leftcols = c(\"studlab\"),\n",
    "       leftlabs = c(\"Study\"))"
   ]
  },
  {
   "cell_type": "markdown",
   "id": "b3d5eab9-25d9-4d3f-92cd-4a527dada656",
   "metadata": {},
   "source": [
    "## 3. Third study: only positive results"
   ]
  },
  {
   "cell_type": "code",
   "execution_count": 19,
   "id": "31c915bf-b5ba-4ccb-9bda-bf1e65cb0259",
   "metadata": {},
   "outputs": [],
   "source": [
    "df |> filter(Study %in% c(\"IMBrave150\", \n",
    "                        \"HIMALAYA durvalumab arm\", \n",
    "                        \"ORIENT32\", \n",
    "                        \"CARES310\", \n",
    "                        \"CheckMate9DW\")) -> df_positive\n",
    "df_positive |> filter(Category %in% c(\"HBV\", \"HCV\", \"Nonviral\")) -> df_sub\n",
    "\n",
    "ma_model_etiology = metagen(log_hr, \n",
    "                            lower = log_hr_lower,\n",
    "                            upper = log_hr_upper,\n",
    "                            data = df_sub, \n",
    "                            studlab=Trial, subgroup = Category, sm=\"HR\")\n",
    "# summary(ma_model_etiology)\n",
    "forest(ma_model_etiology, \n",
    "       fontsize = 9, \n",
    "       spacing = .95,\n",
    "       width = width_,\n",
    "       xlim = c(.2, 2),\n",
    "       file = \"../../figures/meta3_etiology.pdf\",\n",
    "       fixed = FALSE,\n",
    "       print.tau2 = FALSE, \n",
    "       colgap.forest.left = \".9cm\",\n",
    "       leftcols = c(\"studlab\"),\n",
    "       leftlabs = c(\"Study\"))"
   ]
  },
  {
   "cell_type": "code",
   "execution_count": 20,
   "id": "a0048e79-5cbe-4391-9baa-a19d96ecb2f7",
   "metadata": {},
   "outputs": [
    {
     "data": {
      "text/html": [
       "<strong>pdf:</strong> 2"
      ],
      "text/latex": [
       "\\textbf{pdf:} 2"
      ],
      "text/markdown": [
       "**pdf:** 2"
      ],
      "text/plain": [
       "pdf \n",
       "  2 "
      ]
     },
     "metadata": {},
     "output_type": "display_data"
    }
   ],
   "source": [
    "# publication bias\n",
    "pdf(file='../../figures/meta3_etiology_publication_bias.pdf')\n",
    "funnel(ma_model_etiology,\n",
    "       log = \"x\",\n",
    "       random = TRUE,\n",
    "       fixed = F)\n",
    "dev.off()"
   ]
  },
  {
   "cell_type": "code",
   "execution_count": 21,
   "id": "3ca68f2f-e10e-4ab3-a601-8cd565c5e405",
   "metadata": {},
   "outputs": [
    {
     "name": "stdout",
     "output_type": "stream",
     "text": [
      "[1] \"Age\"\n",
      "[1] \"AFP\"\n",
      "[1] \"ECOG\"\n",
      "[1] \"PD-L1\"\n",
      "[1] \"Child-Pugh\"\n"
     ]
    }
   ],
   "source": [
    "for (str_ in c(\"Age\", \"AFP\", \"ECOG\", \"PD-L1\", \"Child-Pugh\")) { #\n",
    "    print(str_)\n",
    "    df_positive |> filter(grepl(str_, Category)) -> df_sub\n",
    "    ma_model_etiology = metagen(log_hr,\n",
    "                                lower = log_hr_lower,\n",
    "                                upper = log_hr_upper, \n",
    "                                data = df_sub, \n",
    "                                studlab=Trial, subgroup = Category, sm=\"HR\")\n",
    "    forest(ma_model_etiology, \n",
    "           fontsize = 9, \n",
    "           spacing = .95,\n",
    "           width = width_,\n",
    "           xlim = c(.2, 2),\n",
    "           file = paste0(\"../../figures/meta3_\", str_, \".pdf\"),\n",
    "           fixed = FALSE,\n",
    "           print.tau2 = FALSE, \n",
    "           colgap.forest.left = \".4cm\",\n",
    "           leftcols = c(\"studlab\"),\n",
    "           leftlabs = c(\"Study\"))\n",
    "}"
   ]
  },
  {
   "cell_type": "code",
   "execution_count": 22,
   "id": "388fa06b-cb94-4de4-8bc0-e80d94aafb81",
   "metadata": {},
   "outputs": [],
   "source": [
    "df_positive |> filter(grepl('Age >= 65 years|Age < 65 years', Category)) -> df_sub\n",
    "ma_model_etiology = metagen(log_hr, \n",
    "                            lower = log_hr_lower,\n",
    "                            upper = log_hr_upper, \n",
    "                            data = df_sub, \n",
    "                            studlab=Trial, subgroup = Category, sm=\"HR\")\n",
    "# summary(ma_model_etiology)\n",
    "forest(ma_model_etiology, \n",
    "       fontsize = 9, \n",
    "       spacing = .95,\n",
    "       width = width_,\n",
    "       xlim = c(.2, 2),\n",
    "       file = \"../../figures/meta3_age_sub.pdf\",\n",
    "       fixed = FALSE,\n",
    "       print.tau2 = FALSE, \n",
    "       colgap.forest.left = \"1.2cm\",\n",
    "       leftcols = c(\"studlab\"),\n",
    "       leftlabs = c(\"Study\"))"
   ]
  },
  {
   "cell_type": "code",
   "execution_count": 23,
   "id": "268dd91e-55b2-4ead-b0b5-9b80860a84b7",
   "metadata": {},
   "outputs": [],
   "source": [
    "df_positive |> filter(grepl('BCLC B|BCLC C', Category)) -> df_sub\n",
    "ma_model_etiology = metagen(log_hr, \n",
    "                            lower = log_hr_lower,\n",
    "                            upper = log_hr_upper, \n",
    "                            data = df_sub, \n",
    "                            studlab=Trial, subgroup = Category, sm=\"HR\")\n",
    "# summary(ma_model_etiology)\n",
    "forest(ma_model_etiology, \n",
    "       fontsize = 9, \n",
    "       spacing = .82,\n",
    "       width = width_,\n",
    "       xlim = c(.2, 2),\n",
    "       file = \"../../figures/meta3_BCLC.pdf\",\n",
    "       fixed = FALSE,\n",
    "       print.tau2 = FALSE, \n",
    "       colgap.forest.left = \".4cm\",\n",
    "       leftcols = c(\"studlab\"),\n",
    "       leftlabs = c(\"Study\"))"
   ]
  },
  {
   "cell_type": "code",
   "execution_count": 24,
   "id": "d497d8cf-6d5b-4668-8add-a32551892a02",
   "metadata": {},
   "outputs": [],
   "source": [
    "df_positive |> filter(grepl('Male|Female', Category)) -> df_sub\n",
    "ma_model_etiology = metagen(log_hr, \n",
    "                            lower = log_hr_lower,\n",
    "                            upper = log_hr_upper, \n",
    "                            data = df_sub, \n",
    "                            studlab=Trial, subgroup = Category, sm=\"HR\")\n",
    "# summary(ma_model_etiology)\n",
    "forest(ma_model_etiology, \n",
    "       fontsize = 9, \n",
    "       spacing = .82,\n",
    "       width = width_,\n",
    "       xlim = c(.2, 2),\n",
    "       file = \"../../figures/meta3_sexes.pdf\",\n",
    "       fixed = FALSE,\n",
    "       print.tau2 = FALSE, \n",
    "       colgap.forest.left = \".4cm\",\n",
    "       leftcols = c(\"studlab\"),\n",
    "       leftlabs = c(\"Study\"))"
   ]
  },
  {
   "cell_type": "code",
   "execution_count": 25,
   "id": "0e034207-f270-431c-867d-751bcf023667",
   "metadata": {},
   "outputs": [],
   "source": [
    "df_positive |> filter(grepl('MVI yes|MVI no', Category)) -> df_sub\n",
    "ma_model_etiology = metagen(log_hr, \n",
    "                            lower = log_hr_lower,\n",
    "                            upper = log_hr_upper,\n",
    "                            data = df_sub, \n",
    "                            studlab=Trial, subgroup = Category, sm=\"HR\")\n",
    "# summary(ma_model_etiology)\n",
    "forest(ma_model_etiology, \n",
    "       fontsize = 9, \n",
    "       spacing = .82,\n",
    "       width = width_,\n",
    "       xlim = c(.2, 2),\n",
    "       file = \"../../figures/meta3_MVI.pdf\",\n",
    "       fixed = FALSE,\n",
    "       print.tau2 = FALSE, \n",
    "       colgap.forest.left = \".4cm\",\n",
    "       leftcols = c(\"studlab\"),\n",
    "       leftlabs = c(\"Study\"))"
   ]
  },
  {
   "cell_type": "code",
   "execution_count": 26,
   "id": "513987da-d458-44df-9c81-b0de20d816a2",
   "metadata": {},
   "outputs": [],
   "source": [
    "df_positive |> filter(Category %in% c('EHS yes', 'EHS no')) -> df_sub\n",
    "ma_model_etiology = metagen(log_hr, \n",
    "                            lower = log_hr_lower,\n",
    "                            upper = log_hr_upper,\n",
    "                            data = df_sub, \n",
    "                            studlab=Trial, subgroup = Category, sm=\"HR\")\n",
    "# summary(ma_model_etiology)\n",
    "forest(ma_model_etiology, \n",
    "       fontsize = 9, \n",
    "       spacing = .82,\n",
    "       width = width_,\n",
    "       file = \"../../figures/meta3_EHS.pdf\",\n",
    "       xlim = c(.2, 2),\n",
    "       fixed = FALSE,\n",
    "       print.tau2 = FALSE, \n",
    "       colgap.forest.left = \".4cm\",\n",
    "       leftcols = c(\"studlab\"),\n",
    "       leftlabs = c(\"Study\"))"
   ]
  },
  {
   "cell_type": "code",
   "execution_count": 27,
   "id": "a68f6c5a-6ea8-4286-b6e9-4c07de37c038",
   "metadata": {},
   "outputs": [],
   "source": [
    "df_positive |> filter(grepl('MVI or EHS yes|MVI or EHS no', Category)) -> df_sub\n",
    "ma_model_etiology = metagen(log_hr, \n",
    "                            lower = log_hr_lower,\n",
    "                            upper = log_hr_upper,\n",
    "                            data = df_sub, \n",
    "                            studlab=Trial, subgroup = Category, sm=\"HR\")\n",
    "# summary(ma_model_etiology)\n",
    "forest(ma_model_etiology, \n",
    "       fontsize = 9, \n",
    "       spacing = .82,\n",
    "       width = width_,\n",
    "       xlim = c(.2, 2),\n",
    "       file = \"../../figures/meta3_MVIorEHS.pdf\",\n",
    "       fixed = FALSE,\n",
    "       print.tau2 = FALSE, \n",
    "       colgap.forest.left = \"1.5cm\",\n",
    "       leftcols = c(\"studlab\"),\n",
    "       leftlabs = c(\"Study\"))"
   ]
  },
  {
   "cell_type": "code",
   "execution_count": 28,
   "id": "abe1803b-1f17-47b2-a01c-ddc5028d19d5",
   "metadata": {},
   "outputs": [],
   "source": [
    "df_positive |> filter(grepl('excluding Japan)|Rest of', Category)) -> df_sub\n",
    "ma_model_etiology = metagen(log_hr, \n",
    "                            lower = log_hr_lower,\n",
    "                            upper = log_hr_upper,\n",
    "                            data = df_sub, \n",
    "                            studlab=Trial, subgroup = Category, sm=\"HR\")\n",
    "# summary(ma_model_etiology)\n",
    "forest(ma_model_etiology, \n",
    "       fontsize = 9, \n",
    "       spacing = .82,\n",
    "       width = width_,\n",
    "       xlim = c(.2, 2),\n",
    "       file = \"../../figures/meta3_geo.pdf\",\n",
    "       fixed = FALSE,\n",
    "       print.tau2 = FALSE, \n",
    "       colgap.forest.left = \"1cm\",\n",
    "       leftcols = c(\"studlab\"),\n",
    "       leftlabs = c(\"Study\"))"
   ]
  },
  {
   "cell_type": "code",
   "execution_count": 29,
   "id": "c22ef4b8-f02f-489e-a4e8-abbe75ad4c76",
   "metadata": {},
   "outputs": [],
   "source": [
    "df_positive |> filter(grepl('- Asia|- Non-Asia', Category)) -> df_sub\n",
    "ma_model_etiology = metagen(log_hr, \n",
    "                            lower = log_hr_lower,\n",
    "                            upper = log_hr_upper,\n",
    "                            data = df_sub, studlab=Trial, subgroup = Category, sm=\"HR\")\n",
    "# summary(ma_model_etiology)\n",
    "forest(ma_model_etiology, \n",
    "       fontsize = 9, \n",
    "       spacing = .82,\n",
    "       xlim = c(.2, 2),\n",
    "       width = width_,\n",
    "       file = \"../../figures/meta3_geo_NoHBV.pdf\",\n",
    "       fixed = FALSE,\n",
    "       print.tau2 = FALSE, \n",
    "       colgap.forest.left = \".4cm\",\n",
    "       leftcols = c(\"studlab\"),\n",
    "       leftlabs = c(\"Study\"))"
   ]
  },
  {
   "cell_type": "code",
   "execution_count": null,
   "id": "e4d12bcb-fc52-470f-b6f9-0dbd075f0f28",
   "metadata": {},
   "outputs": [],
   "source": []
  }
 ],
 "metadata": {
  "kernelspec": {
   "display_name": "R",
   "language": "R",
   "name": "ir"
  },
  "language_info": {
   "codemirror_mode": "r",
   "file_extension": ".r",
   "mimetype": "text/x-r-source",
   "name": "R",
   "pygments_lexer": "r",
   "version": "4.4.0"
  }
 },
 "nbformat": 4,
 "nbformat_minor": 5
}
